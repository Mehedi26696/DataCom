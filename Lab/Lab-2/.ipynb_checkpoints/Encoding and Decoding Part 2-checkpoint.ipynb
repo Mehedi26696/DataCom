{
 "cells": [
  {
   "cell_type": "markdown",
   "id": "ada37614",
   "metadata": {},
   "source": [
    "<center><h1 style=\"color:blue\">AMI, Pseudoternary and MLT-3</h1>"
   ]
  },
  {
   "cell_type": "markdown",
   "id": "5c322b1f",
   "metadata": {},
   "source": [
    "# **Encoding and Decoding in Data Communication**\n",
    "\n",
    "## **Introduction**\n",
    "In digital communication, various line coding schemes like **AMI**, **Pseudoternary**, and **MLT-3** are used to improve signal integrity, reduce DC bias, and maintain synchronization. These methods transform binary data into physical signals suitable for transmission."
   ]
  },
  {
   "cell_type": "markdown",
   "id": "764cb3f3",
   "metadata": {},
   "source": [
    "---\n",
    "## **1. AMI (Alternate Mark Inversion) Encoding and Decoding**\n",
    "\n",
    "### **AMI Encoding Rules:**\n",
    "- Logical `0` → `0V`\n",
    "- Logical `1` → Alternates between `+V` and `-V`\n",
    "- Eliminates DC bias and improves synchronization.\n",
    "\n",
    "### **AMI Decoding Rules:**\n",
    "- `0V` → `0`\n",
    "- `+V` or `-V` → `1`\n",
    "\n",
    "### **Example:**\n",
    "**Given Bits:** `10110010`\n",
    "\n",
    "- Initial State (-1):\n",
    "\n",
    "| Bit       | 1 | 0 | 1 | 1 | 0 | 0 | 1 | 0 |\n",
    "|-----------|---|---|---|---|---|---|---|---|\n",
    "| Encoded   | + | 0 | - | + | 0 | 0 | - | 0 |\n",
    "\n",
    "- Initial State (1):\n",
    "\n",
    "| Bit       | 1 | 0 | 1 | 1 | 0 | 0 | 1 | 0 |\n",
    "|-----------|---|---|---|---|---|---|---|---|\n",
    "| Encoded   | - | 0 | + | - | 0 | 0 | + | 0 |\n"
   ]
  },
  {
   "cell_type": "markdown",
   "id": "1ecb2ca8",
   "metadata": {},
   "source": [
    "---\n",
    "## **2. Pseudoternary Encoding and Decoding**\n",
    "\n",
    "### **Pseudoternary Encoding Rules:**\n",
    "- Logical `1` → `0V`\n",
    "- Logical `0` → Alternates between `+V` and `-V`\n",
    "- Inverse of AMI but similar benefits.\n",
    "\n",
    "### **Pseudoternary Decoding Rules:**\n",
    "- `0V` → `1`\n",
    "- `+V` or `-V` → `0`\n",
    "\n",
    "### **Example:**\n",
    "**Given Bits:** `10110010`\n",
    "\n",
    "- Initial State(-1):\n",
    "\n",
    "| Bit       | 1 | 0 | 1 | 1 | 0 | 0 | 1 | 0 |\n",
    "|-----------|---|---|---|---|---|---|---|---|\n",
    "| Encoded   | 0 | + | 0 | 0 | - | + | 0 | - |\n",
    "\n",
    "- Initial State(1):\n",
    "\n",
    "| Bit       | 1 | 0 | 1 | 1 | 0 | 0 | 1 | 0 |\n",
    "|-----------|---|---|---|---|---|---|---|---|\n",
    "| Encoded   | 0 | - | 0 | 0 | + | - | 0 | + |\n"
   ]
  },
  {
   "cell_type": "markdown",
   "id": "ad14d6bb",
   "metadata": {},
   "source": [
    "---\n",
    "## **3. MLT-3 (Multi-Level Transmit - 3 levels) Encoding and Decoding**\n",
    "\n",
    "### **MLT-3 Encoding Rules:**\n",
    "- Uses levels: `+1`, `0`, `-1`\n",
    "- Logical `0` → No change in level\n",
    "- Logical `1` → Transition to the next level in the sequence:\n",
    "  `0 → +1 → 0 → -1 → 0 → +1 → ...`\n",
    "\n",
    "### **MLT-3 Decoding Rules:**\n",
    "- Transition → `1`\n",
    "- No change → `0`\n",
    "\n",
    "### **Example:**\n",
    "**Given Bits:** `1100101`\n",
    "\n",
    "| Bit       | 1 | 1 | 0 | 0 | 1 | 0 | 1 |\n",
    "|-----------|---|---|---|---|---|---|---|\n",
    "| Encoded   | +1 | 0 | 0 | 0 | -1 | -1 | 0 |\n"
   ]
  }
 ],
 "metadata": {
  "kernelspec": {
   "display_name": "Python 3 (ipykernel)",
   "language": "python",
   "name": "python3"
  },
  "language_info": {
   "codemirror_mode": {
    "name": "ipython",
    "version": 3
   },
   "file_extension": ".py",
   "mimetype": "text/x-python",
   "name": "python",
   "nbconvert_exporter": "python",
   "pygments_lexer": "ipython3",
   "version": "3.10.11"
  }
 },
 "nbformat": 4,
 "nbformat_minor": 5
}
